{
 "cells": [
  {
   "cell_type": "code",
   "execution_count": null,
   "metadata": {},
   "outputs": [],
   "source": [
    "#INTEGRANTES:\n",
    "# AURAZO ALVARADO FERNANDO MIGUEL\n",
    "# ESPINOLA RONDOY ERICK ALONSO\n",
    "# GIL GONZALEZ SERGIO ANDERSON"
   ]
  },
  {
   "cell_type": "code",
   "execution_count": 1,
   "metadata": {},
   "outputs": [],
   "source": [
    "#PARTE 1"
   ]
  },
  {
   "cell_type": "code",
   "execution_count": null,
   "metadata": {},
   "outputs": [],
   "source": [
    "import numpy as np\n",
    "import matplotlib.pyplot as plt\n",
    "import cv2\n",
    "\n",
    "slider_max = 100\n",
    "slider_min = 0\n",
    "title_window = 'Brillo' #titulo de ventana\n",
    "def on_trackbar(val):\n",
    "    dst = src1 + val/255\n",
    "    cv2.imshow(title_window, dst)\n",
    "\n",
    "src1 = cv2.imread('CONEJO.jpg')/255\n",
    "\n",
    "try:\n",
    "    cv2.namedWindow(title_window)\n",
    "    trackbar_name = f\"Brilo {slider_max}\" #nombre al costado de la barra\n",
    "    cv2.createTrackbar(trackbar_name, title_window, 50, slider_max, on_trackbar) #valores que juegan en la barra\n",
    "                  #nombre de la barra / \n",
    "    on_trackbar(50) #valor inicial de la imagen\n",
    "\n",
    "    while True:\n",
    "        key = cv2.waitKey(1)\n",
    "        if key != -1:\n",
    "            break\n",
    "    cv2.destroyAllWindows()\n",
    "except:\n",
    "    cv2.destroyAllWindows()"
   ]
  },
  {
   "cell_type": "code",
   "execution_count": null,
   "metadata": {},
   "outputs": [],
   "source": [
    "#PARTE 2"
   ]
  },
  {
   "cell_type": "code",
   "execution_count": null,
   "metadata": {},
   "outputs": [],
   "source": [
    "import cv2\n",
    "import numpy as np\n",
    "from scipy import signal\n",
    "\n",
    "slider_max = 20\n",
    "slider_min = 0\n",
    "title_window = 'Suavizado'\n",
    "\n",
    "def on_trackbar(kernel_size):\n",
    "    global src1\n",
    "    #kernel_size = val // 5  # Ajusta el tamaño del kernel para el suavizado\n",
    "    if kernel_size % 2 == 0:  # Asegura que el tamaño del kernel sea impar\n",
    "        kernel_size += 1\n",
    "    kernel = np.ones((kernel_size, kernel_size)) / (kernel_size ** 2)  # Kernel para suavizado\n",
    "    out = signal.convolve2d(src1, kernel, mode=\"same\")  # Aplicar convolución\n",
    "    cv2.imshow(title_window, out)\n",
    "\n",
    "src1 = cv2.imread('CONEJO.jpg', 0) / 255  # Cargar imagen en escala de grises\n",
    "\n",
    "try:\n",
    "    cv2.namedWindow(title_window)\n",
    "    trackbar_name = f\"Suavizado {slider_max}\"\n",
    "    cv2.createTrackbar(trackbar_name, title_window, 0, slider_max, on_trackbar)  # Valor inicial 0 para tamaño de kernel\n",
    "    on_trackbar(0)\n",
    "\n",
    "    while True:\n",
    "        key = cv2.waitKey(1)\n",
    "        if key != -1:\n",
    "            break\n",
    "    cv2.destroyAllWindows()\n",
    "except:\n",
    "    cv2.destroyAllWindows()"
   ]
  },
  {
   "cell_type": "code",
   "execution_count": null,
   "metadata": {},
   "outputs": [],
   "source": [
    "#PARTE 3"
   ]
  },
  {
   "cell_type": "code",
   "execution_count": null,
   "metadata": {},
   "outputs": [],
   "source": [
    "import cv2\n",
    "import numpy as np\n",
    "from scipy import signal\n",
    "\n",
    "slider_max = 5\n",
    "slider_min = 0\n",
    "title_window = 'LAPLACIANO'\n",
    "\n",
    "def on_trackbar(kernel_size):\n",
    "    global src1\n",
    "    A = kernel_size\n",
    "    kernel = np.array([[-1,-1,-1], [-1,A+8,-1], [-1,-1,-1]]) # Kernel para suavizado\n",
    "    out = signal.convolve2d(src1, kernel, mode=\"same\")  # Aplicar convolución\n",
    "    cv2.imshow(title_window, out)\n",
    "\n",
    "src1 = cv2.imread('CONEJO.jpg', 0) / 255  # Cargar imagen en escala de grises\n",
    "\n",
    "try:\n",
    "    cv2.namedWindow(title_window)\n",
    "    trackbar_name = f\"LAPLACIANO {slider_max}\"\n",
    "    cv2.createTrackbar(trackbar_name, title_window, 0, slider_max, on_trackbar)  # Valor inicial 0 para tamaño de kernel\n",
    "    on_trackbar(0)\n",
    "\n",
    "    while True:\n",
    "        key = cv2.waitKey(1)\n",
    "        if key != -1:\n",
    "            break\n",
    "    cv2.destroyAllWindows()\n",
    "except:\n",
    "    cv2.destroyAllWindows()"
   ]
  }
 ],
 "metadata": {
  "kernelspec": {
   "display_name": "Python 3",
   "language": "python",
   "name": "python3"
  },
  "language_info": {
   "codemirror_mode": {
    "name": "ipython",
    "version": 3
   },
   "file_extension": ".py",
   "mimetype": "text/x-python",
   "name": "python",
   "nbconvert_exporter": "python",
   "pygments_lexer": "ipython3",
   "version": "3.6.6"
  }
 },
 "nbformat": 4,
 "nbformat_minor": 2
}
